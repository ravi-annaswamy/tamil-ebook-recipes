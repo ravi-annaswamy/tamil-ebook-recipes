{
 "cells": [
  {
   "cell_type": "markdown",
   "metadata": {},
   "source": [
    "# TAM HTML to page by page Unicode HTML\n",
    "### Code by Ravi Annaswamy October 2019\n",
    "### Tested first on Keeladi Research Report from Tamilnadu Archaeology Department."
   ]
  },
  {
   "cell_type": "markdown",
   "metadata": {
    "collapsed": true
   },
   "source": [
    "# Step 1.  Using pdftohtml.net HTML, first create the html version of the PDF.\n",
    "\n",
    "### from this great web service.\n",
    "### https://www.pdftohtml.net/\n",
    "\n",
    "### Later, we will find a way to do it without going to the webservice."
   ]
  },
  {
   "cell_type": "code",
   "execution_count": 1,
   "metadata": {
    "collapsed": true
   },
   "outputs": [],
   "source": [
    "html_file = './Keeladi_Document_Tamil/Keeladi_Document_Tamil_p2h.html'"
   ]
  },
  {
   "cell_type": "code",
   "execution_count": 2,
   "metadata": {
    "collapsed": true
   },
   "outputs": [],
   "source": [
    "with open(html_file, encoding='utf-8') as f:\n",
    "    text=f.read()"
   ]
  },
  {
   "cell_type": "code",
   "execution_count": 13,
   "metadata": {},
   "outputs": [
    {
     "data": {
      "text/plain": [
       "'ly:Arial,serif;font-size:50.0px;color:rgb(0,0,0);font-weight:normal;font-style:normal;text-decoration: none}\\nspan.cls_022{font-family:Arial,serif;font-size:12.1px;color:rgb(0,0,0);font-weight:normal;font-style:normal;text-decoration: none}\\ndiv.cls_022{font-family:Arial,serif;font-size:12.1px;color:rgb(0,0,0);font-weight:normal;font-style:normal;text-decoration: none}\\nspan.cls_021{font-family:Arial,serif;font-size:39.4px;color:rgb(87,88,91);font-weight:normal;font-style:normal;text-decoration: no'"
      ]
     },
     "execution_count": 13,
     "metadata": {},
     "output_type": "execute_result"
    }
   ],
   "source": [
    "text[5000:5500]"
   ]
  },
  {
   "cell_type": "markdown",
   "metadata": {},
   "source": [
    "# Step 2.  From html source code, identify how many font settings are being used. \n",
    "### This may run into thousands.\n",
    "### Detect how many are to be left untranslated (English) and which ones are TAM encoded."
   ]
  },
  {
   "cell_type": "code",
   "execution_count": 67,
   "metadata": {},
   "outputs": [
    {
     "name": "stdout",
     "output_type": "stream",
     "text": [
      "class_count: 1369\n",
      "Eng classes: 76\n",
      "Tam classes: 1287\n"
     ]
    }
   ],
   "source": [
    "import re\n",
    "\n",
    "html2 = text\n",
    "\n",
    "def get_classname(cno):\n",
    "    c=str(cno)\n",
    "    if len(c)==1:\n",
    "        return 'cls_00'+c\n",
    "    if len(c)==2:\n",
    "        return 'cls_0'+c\n",
    "    if len(c)>=3:\n",
    "        return 'cls_'+c\n",
    "\n",
    "    \n",
    "eng_classes=[]\n",
    "tam_classes=[]\n",
    "class_count=0\n",
    "for cno in range(5000):\n",
    "    cname=get_classname(cno)\n",
    "    pattern = '<span class=\"'+cname+'\">(.*?)</span>'\n",
    "    #print(pattern)\n",
    "    matches= re.findall(pattern,html2)\n",
    "    if matches:\n",
    "        all_text=''.join(matches)\n",
    "        alpha=''.join(list(sorted(set(all_text))))\n",
    "        for c in '‘’“”':\n",
    "            alpha=alpha.replace(c,'')\n",
    "        #print(cname, alpha, len(matches), ord(min(alpha)), ord(max(alpha))) # T.to_unicode(matches[0]))\n",
    "        if cno>class_count:\n",
    "            class_count=cno\n",
    "        if ord(max(alpha))<220:\n",
    "            eng_classes.append((cno,ord(max(alpha))))\n",
    "        else:\n",
    "            tam_classes.append((cno,ord(max(alpha))))\n",
    "            \n",
    "class_count+=1\n",
    "print(\"class_count:\", class_count)\n",
    "print('Eng classes:', len(eng_classes))\n",
    "print('Tam classes:', len(tam_classes))\n"
   ]
  },
  {
   "cell_type": "markdown",
   "metadata": {},
   "source": [
    "### For debugging if a font that is not tamil, is getting interpreted as Tamil.\n",
    "#### Find its class number and plug it in here.\n",
    "#### Check if a particular class in tamil is truly an english if you get bad mapping"
   ]
  },
  {
   "cell_type": "code",
   "execution_count": 64,
   "metadata": {},
   "outputs": [
    {
     "name": "stdout",
     "output_type": "stream",
     "text": [
      "[(6, 257)]\n"
     ]
    }
   ],
   "source": [
    "print([(classno,count) for classno,count in tam_classes if classno==6])"
   ]
  },
  {
   "cell_type": "markdown",
   "metadata": {},
   "source": [
    "### If you still see some classes that are getting misinterpreted as Tamil, you need to increase the threshold by looking through this."
   ]
  },
  {
   "cell_type": "code",
   "execution_count": 65,
   "metadata": {},
   "outputs": [
    {
     "name": "stdout",
     "output_type": "stream",
     "text": [
      "Tamil classes with low-code letters: [(405, 220), (1257, 220), (561, 222), (863, 222), (943, 222), (1158, 222), (21, 238), (286, 238), (365, 238), (516, 238)]\n"
     ]
    }
   ],
   "source": [
    "print('Tamil classes with low-code letters:', sorted(tam_classes, key=lambda k:k[1])[:10])"
   ]
  },
  {
   "cell_type": "markdown",
   "metadata": {},
   "source": [
    "# Step 3. Actual conversion step. \n",
    "### Locate tamil phrases and sentences and paras and translate using our TAM decoder."
   ]
  },
  {
   "cell_type": "code",
   "execution_count": 68,
   "metadata": {},
   "outputs": [
    {
     "name": "stdout",
     "output_type": "stream",
     "text": [
      "319 TAM to Unicode replacements read!\n"
     ]
    }
   ],
   "source": [
    "import TAM \n",
    "\n",
    "T = TAM.TAM()\n",
    "\n",
    "html2 = text\n",
    "\n",
    "P1 = '<span class=\"'\n",
    "P2 = '\">'\n",
    "P3 = '(.*?)'\n",
    "P4 = '</span>'\n",
    "eng_class_list=[cno for cno,cnt in eng_classes]\n",
    "\n",
    "debug=False\n",
    "i=0\n",
    "for cno in range(class_count):\n",
    "    #print(get_classname(cno))\n",
    "    if cno not in eng_class_list:\n",
    "        pattern = pattern_left + get_classname(cno) + pattern_right\n",
    "        matches= re.findall(pattern,html2)\n",
    "        for m in matches:\n",
    "            html2=html2.replace(P1 + get_classname(cno)+ P2 + m + P4, \\\n",
    "                                P1 + get_classname(cno)+ P2 +T.to_unicode(m)+ P4)\n",
    "            if debug:\n",
    "                print(m)\n",
    "                print(P1 + get_classname(cno)+ P2 + m + P4)\n",
    "                print(P1 + get_classname(cno)+ P2 +T.to_unicode(m)+ P4)\n",
    "                print()\n",
    "                i+=1\n",
    "                if i==10: break\n",
    "    if debug:\n",
    "        if i==10: break"
   ]
  },
  {
   "cell_type": "markdown",
   "metadata": {},
   "source": [
    "# Step 4. Write out the Unicode HTML."
   ]
  },
  {
   "cell_type": "code",
   "execution_count": 62,
   "metadata": {
    "collapsed": true
   },
   "outputs": [],
   "source": [
    "outfile = html_file.replace('.html','_pagewise_unicode.html')\n",
    "with open(outfile,'w', encoding='utf-8') as f:\n",
    "    f.write(html2)"
   ]
  },
  {
   "cell_type": "markdown",
   "metadata": {},
   "source": [
    "## Done!"
   ]
  },
  {
   "cell_type": "code",
   "execution_count": null,
   "metadata": {
    "collapsed": true
   },
   "outputs": [],
   "source": []
  }
 ],
 "metadata": {
  "kernelspec": {
   "display_name": "Python 3",
   "language": "python",
   "name": "python3"
  },
  "language_info": {
   "codemirror_mode": {
    "name": "ipython",
    "version": 3
   },
   "file_extension": ".py",
   "mimetype": "text/x-python",
   "name": "python",
   "nbconvert_exporter": "python",
   "pygments_lexer": "ipython3",
   "version": "3.6.3"
  }
 },
 "nbformat": 4,
 "nbformat_minor": 2
}
